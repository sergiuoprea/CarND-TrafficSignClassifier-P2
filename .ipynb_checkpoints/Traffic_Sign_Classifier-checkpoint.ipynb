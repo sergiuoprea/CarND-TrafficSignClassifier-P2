{
 "cells": [
  {
   "cell_type": "markdown",
   "metadata": {},
   "source": [
    "# Self-Driving Car Engineer Nanodegree\n",
    "\n",
    "## Deep Learning\n",
    "\n",
    "## Project: Build a Traffic Sign Recognition Classifier\n",
    "\n",
    "In this notebook, a template is provided for you to implement your functionality in stages, which is required to successfully complete this project. If additional code is required that cannot be included in the notebook, be sure that the Python code is successfully imported and included in your submission if necessary. \n",
    "\n",
    "> **Note**: Once you have completed all of the code implementations, you need to finalize your work by exporting the iPython Notebook as an HTML document. Before exporting the notebook to html, all of the code cells need to have been run so that reviewers can see the final implementation and output. You can then export the notebook by using the menu above and navigating to  \\n\",\n",
    "    \"**File -> Download as -> HTML (.html)**. Include the finished document along with this notebook as your submission. \n",
    "\n",
    "In addition to implementing code, there is a writeup to complete. The writeup should be completed in a separate file, which can be either a markdown file or a pdf document. There is a [write up template](https://github.com/udacity/CarND-Traffic-Sign-Classifier-Project/blob/master/writeup_template.md) that can be used to guide the writing process. Completing the code template and writeup template will cover all of the [rubric points](https://review.udacity.com/#!/rubrics/481/view) for this project.\n",
    "\n",
    "The [rubric](https://review.udacity.com/#!/rubrics/481/view) contains \"Stand Out Suggestions\" for enhancing the project beyond the minimum requirements. The stand out suggestions are optional. If you decide to pursue the \"stand out suggestions\", you can include the code in this Ipython notebook and also discuss the results in the writeup file.\n",
    "\n",
    "\n",
    ">**Note:** Code and Markdown cells can be executed using the **Shift + Enter** keyboard shortcut. In addition, Markdown cells can be edited by typically double-clicking the cell to enter edit mode."
   ]
  },
  {
   "cell_type": "code",
   "execution_count": 1,
   "metadata": {},
   "outputs": [],
   "source": [
    "#Imports\n",
    "\n",
    "#Load pickled data\n",
    "import pickle\n",
    "#For loading the csv with the traffic signs names\n",
    "import pandas as pd\n",
    "#For plotting random images from the dataset\n",
    "import random as rnd\n",
    "#Image processing\n",
    "import skimage.morphology as morp \n",
    "from skimage.filters import rank\n",
    "from skimage import io, transform, color, exposure\n",
    "#Tensorflow\n",
    "import tensorflow as tf\n",
    "from tensorflow.contrib.layers import flatten\n",
    "#Shuffle training, validation and test sets\n",
    "from sklearn.utils import shuffle\n",
    "#Read images and open\n",
    "import os\n",
    "#Surpress warnings\n",
    "import warnings\n",
    "#Visualization library\n",
    "import matplotlib.pyplot as plt\n",
    "#Numpy\n",
    "import numpy as np\n",
    "import operator\n"
   ]
  },
  {
   "cell_type": "markdown",
   "metadata": {},
   "source": [
    "---\n",
    "## Step 0: Load The Data"
   ]
  },
  {
   "cell_type": "code",
   "execution_count": 2,
   "metadata": {
    "collapsed": true
   },
   "outputs": [],
   "source": [
    "# TODO: Fill this in based on where you saved the training and testing data\n",
    "dataset_folder = \"./traffic-signs-data/\"\n",
    "\n",
    "training_file = dataset_folder + \"train.p\"\n",
    "validation_file= dataset_folder + \"valid.p\"\n",
    "testing_file = dataset_folder + \"test.p\"\n",
    "\n",
    "with open(training_file, mode='rb') as f:\n",
    "    train = pickle.load(f)\n",
    "with open(validation_file, mode='rb') as f:\n",
    "    valid = pickle.load(f)\n",
    "with open(testing_file, mode='rb') as f:\n",
    "    test = pickle.load(f)\n",
    "    \n",
    "X_train, y_train = train['features'], train['labels']\n",
    "X_valid, y_valid = valid['features'], valid['labels']\n",
    "X_test, y_test = test['features'], test['labels']\n",
    "\n",
    "\n",
    "#Here we will also load the names of traffic signs\n",
    "signnames= pd.read_csv('./signnames.csv')\n",
    "signnames.set_index('ClassId',inplace=True)\n",
    "\n",
    "#Function to get the name by index\n",
    "def get_sign_name(label):\n",
    "    return signnames.loc[label].SignName"
   ]
  },
  {
   "cell_type": "markdown",
   "metadata": {},
   "source": [
    "---\n",
    "\n",
    "## Step 1: Dataset Summary & Exploration\n",
    "\n",
    "The pickled data is a dictionary with 4 key/value pairs:\n",
    "\n",
    "- `'features'` is a 4D array containing raw pixel data of the traffic sign images, (num examples, width, height, channels).\n",
    "- `'labels'` is a 1D array containing the label/class id of the traffic sign. The file `signnames.csv` contains id -> name mappings for each id.\n",
    "- `'sizes'` is a list containing tuples, (width, height) representing the original width and height the image.\n",
    "- `'coords'` is a list containing tuples, (x1, y1, x2, y2) representing coordinates of a bounding box around the sign in the image. **THESE COORDINATES ASSUME THE ORIGINAL IMAGE. THE PICKLED DATA CONTAINS RESIZED VERSIONS (32 by 32) OF THESE IMAGES**\n",
    "\n",
    "Complete the basic data summary below. Use python, numpy and/or pandas methods to calculate the data summary rather than hard coding the results. For example, the [pandas shape method](http://pandas.pydata.org/pandas-docs/stable/generated/pandas.DataFrame.shape.html) might be useful for calculating some of the summary results. "
   ]
  },
  {
   "cell_type": "markdown",
   "metadata": {},
   "source": [
    "### Provide a Basic Summary of the Data Set Using Python, Numpy and/or Pandas"
   ]
  },
  {
   "cell_type": "code",
   "execution_count": 3,
   "metadata": {},
   "outputs": [
    {
     "name": "stdout",
     "output_type": "stream",
     "text": [
      "Number of training examples = 34799\n",
      "Number of validation examples = 4410\n",
      "Number of testing examples = 12630\n",
      "Image data shape = (32, 32, 3)\n",
      "Number of classes = 43\n"
     ]
    }
   ],
   "source": [
    "### Replace each question mark with the appropriate value. \n",
    "### Use python, pandas or numpy methods rather than hard coding the results\n",
    "\n",
    "# TODO: Number of training examples\n",
    "n_train = len(X_train)\n",
    "\n",
    "# TODO: Number of validation examples\n",
    "n_validation = len(X_valid)\n",
    "\n",
    "# TODO: Number of testing examples.\n",
    "n_test = len(X_test)\n",
    "\n",
    "# TODO: What's the shape of an traffic sign image?\n",
    "image_shape = X_train[0].shape\n",
    "\n",
    "# TODO: How many unique classes/labels there are in the dataset.\n",
    "n_classes = len(set(y_train))\n",
    "\n",
    "print(\"Number of training examples =\", n_train)\n",
    "print(\"Number of validation examples =\", n_validation)\n",
    "print(\"Number of testing examples =\", n_test)\n",
    "print(\"Image data shape =\", image_shape)\n",
    "print(\"Number of classes =\", n_classes)"
   ]
  },
  {
   "cell_type": "markdown",
   "metadata": {},
   "source": [
    "### Include an exploratory visualization of the dataset"
   ]
  },
  {
   "cell_type": "markdown",
   "metadata": {},
   "source": [
    "Visualize the German Traffic Signs Dataset using the pickled file(s). This is open ended, suggestions include: plotting traffic sign images, plotting the count of each sign, etc. \n",
    "\n",
    "The [Matplotlib](http://matplotlib.org/) [examples](http://matplotlib.org/examples/index.html) and [gallery](http://matplotlib.org/gallery.html) pages are a great resource for doing visualizations in Python.\n",
    "\n",
    "**NOTE:** It's recommended you start with something simple first. If you wish to do more, come back to it after you've completed the rest of the sections. It can be interesting to look at the distribution of classes in the training, validation and test set. Is the distribution the same? Are there more examples of some classes than others?"
   ]
  },
  {
   "cell_type": "code",
   "execution_count": 4,
   "metadata": {},
   "outputs": [
    {
     "name": "stdout",
     "output_type": "stream",
     "text": [
      "Number of training set classes = 43\n",
      "Number of validation set classes = 43\n",
      "Number of test set classes = 43\n",
      "All the sets have the same number of classes\n",
      "                                                  SignName\n",
      "ClassId                                                   \n",
      "0                                     Speed limit (20km/h)\n",
      "1                                     Speed limit (30km/h)\n",
      "2                                     Speed limit (50km/h)\n",
      "3                                     Speed limit (60km/h)\n",
      "4                                     Speed limit (70km/h)\n",
      "5                                     Speed limit (80km/h)\n",
      "6                              End of speed limit (80km/h)\n",
      "7                                    Speed limit (100km/h)\n",
      "8                                    Speed limit (120km/h)\n",
      "9                                               No passing\n",
      "10            No passing for vehicles over 3.5 metric tons\n",
      "11                   Right-of-way at the next intersection\n",
      "12                                           Priority road\n",
      "13                                                   Yield\n",
      "14                                                    Stop\n",
      "15                                             No vehicles\n",
      "16                Vehicles over 3.5 metric tons prohibited\n",
      "17                                                No entry\n",
      "18                                         General caution\n",
      "19                             Dangerous curve to the left\n",
      "20                            Dangerous curve to the right\n",
      "21                                            Double curve\n",
      "22                                              Bumpy road\n",
      "23                                           Slippery road\n",
      "24                               Road narrows on the right\n",
      "25                                               Road work\n",
      "26                                         Traffic signals\n",
      "27                                             Pedestrians\n",
      "28                                       Children crossing\n",
      "29                                       Bicycles crossing\n",
      "30                                      Beware of ice/snow\n",
      "31                                   Wild animals crossing\n",
      "32                     End of all speed and passing limits\n",
      "33                                        Turn right ahead\n",
      "34                                         Turn left ahead\n",
      "35                                              Ahead only\n",
      "36                                    Go straight or right\n",
      "37                                     Go straight or left\n",
      "38                                              Keep right\n",
      "39                                               Keep left\n",
      "40                                    Roundabout mandatory\n",
      "41                                       End of no passing\n",
      "42       End of no passing by vehicles over 3.5 metric ...\n"
     ]
    },
    {
     "data": {
      "image/png": "[encoded data removed]",
      "text/plain": [
       "<matplotlib.figure.Figure at 0x7fb48696a0f0>"
      ]
     },
     "metadata": {},
     "output_type": "display_data"
    },
    {
     "name": "stdout",
     "output_type": "stream",
     "text": [
      "First 5 common classes in the training set: ['Speed limit (50km/h)', 'Speed limit (30km/h)', 'Yield', 'Priority road', 'Keep right'].\n",
      "Last 5 common classes in the training set: ['Speed limit (20km/h)', 'Dangerous curve to the left', 'Go straight or left', 'Pedestrians', 'End of all speed and passing limits'].\n"
     ]
    },
    {
     "data": {
      "image/png": "[encoded data removed]",
      "text/plain": [
       "<matplotlib.figure.Figure at 0x7fb4867ca518>"
      ]
     },
     "metadata": {},
     "output_type": "display_data"
    },
    {
     "name": "stdout",
     "output_type": "stream",
     "text": [
      "First 5 common classes in the validation set: ['Speed limit (30km/h)', 'Speed limit (50km/h)', 'Yield', 'Speed limit (70km/h)', 'Speed limit (80km/h)'].\n",
      "Last 5 common classes in the validation set: ['Speed limit (20km/h)', 'Dangerous curve to the left', 'Road narrows on the right', 'Pedestrians', 'Bicycles crossing'].\n"
     ]
    },
    {
     "data": {
      "image/png": "[encoded data removed]",
      "text/plain": [
       "<matplotlib.figure.Figure at 0x7fb486765b70>"
      ]
     },
     "metadata": {},
     "output_type": "display_data"
    },
    {
     "name": "stdout",
     "output_type": "stream",
     "text": [
      "First 5 common classes in the test set: ['Speed limit (50km/h)', 'Speed limit (30km/h)', 'Yield', 'Priority road', 'Keep right'].\n",
      "Last 5 common classes in the test set: ['Speed limit (20km/h)', 'Dangerous curve to the left', 'Pedestrians', 'End of all speed and passing limits', 'Go straight or left'].\n",
      "\n",
      "\n",
      "Training set samples\n"
     ]
    },
    {
     "data": {
      "image/png": "[encoded data removed]",
      "text/plain": [
       "<matplotlib.figure.Figure at 0x7fb486711a90>"
      ]
     },
     "metadata": {},
     "output_type": "display_data"
    },
    {
     "name": "stdout",
     "output_type": "stream",
     "text": [
      "Validation set samples\n"
     ]
    },
    {
     "data": {
      "image/png": "[encoded data removed]",
      "text/plain": [
       "<matplotlib.figure.Figure at 0x7fb4867bc320>"
      ]
     },
     "metadata": {},
     "output_type": "display_data"
    },
    {
     "name": "stdout",
     "output_type": "stream",
     "text": [
      "Test set samples\n"
     ]
    },
    {
     "data": {
      "image/png": "[encoded data removed]",
      "text/plain": [
       "<matplotlib.figure.Figure at 0x7fb4865fa668>"
      ]
     },
     "metadata": {},
     "output_type": "display_data"
    }
   ],
   "source": [
    "### Data exploration visualization code goes here.\n",
    "### Feel free to use as many code cells as needed.\n",
    "plt.style.use('ggplot') #ggplot style for plots\n",
    "\n",
    "#Function used to get the n most or less common classes counting the total number of samples by each one\n",
    "def get_n_most_or_less_common_classes(in_n, in_dict, most=True):\n",
    "    out = []\n",
    "    sorted_dict = sorted(in_dict, key=in_dict.__getitem__, reverse=most)\n",
    "    \n",
    "    if in_n < len(in_dict.keys()):\n",
    "        for i in range(0, in_n):\n",
    "            out.append(get_sign_name(sorted_dict[i]))\n",
    "    else:\n",
    "        print(\"Maximum number of classes is \", len(in_dict.keys()))\n",
    "        return\n",
    "        \n",
    "    return out\n",
    "            \n",
    "\n",
    "#First we will test if the number of unique labels are the same for training, validation\n",
    "#and test sets\n",
    "n_classes_train = len(set(y_train))\n",
    "n_classes_valid = len(set(y_train))\n",
    "n_classes_test = len(set(y_test))\n",
    "\n",
    "print(\"Number of training set classes =\", n_classes_train)\n",
    "print(\"Number of validation set classes =\", n_classes_valid)\n",
    "print(\"Number of test set classes =\", n_classes_test)\n",
    "\n",
    "#This is very important because we should validate and test data from each class\n",
    "if n_classes_train == n_classes_valid == n_classes_test:\n",
    "    print(\"All the sets have the same number of classes\")\n",
    "    \n",
    "#We will list all classes\n",
    "print(signnames)\n",
    "    \n",
    "#Next we will print the class distribution of the images in training, validation and test sets\n",
    "#training set\n",
    "\n",
    "#TRAINING SET\n",
    "#distribution\n",
    "unique, counts = np.unique(y_train, return_counts=True)\n",
    "\n",
    "plt.figure(figsize=(12,5))\n",
    "plt.bar(unique, counts, align='center')\n",
    "plt.xticks(unique)\n",
    "plt.title('Training set class distribution')\n",
    "plt.ylabel('Number of samples per class')\n",
    "plt.xlabel('Number of classes')\n",
    "plt.savefig(\"figures/training_distr.png\")\n",
    "plt.show()\n",
    "\n",
    "distr_dict = dict(zip(unique, counts))\n",
    "\n",
    "#Print most common classes in the training set\n",
    "first_n = 5\n",
    "print(\"First {} common classes in the training set: {}.\".format(first_n, get_n_most_or_less_common_classes(first_n, distr_dict)))\n",
    "\n",
    "#Last most common classes in the training set\n",
    "last_n = 5\n",
    "print(\"Last {} common classes in the training set: {}.\".format(last_n, get_n_most_or_less_common_classes(last_n, distr_dict, most=False)))\n",
    "\n",
    "\n",
    "#VALIDATION SET\n",
    "unique, counts = np.unique(y_valid, return_counts=True)\n",
    "\n",
    "plt.figure(figsize=(12,5))\n",
    "plt.bar(unique, counts, align='center')\n",
    "plt.xticks(unique)\n",
    "plt.title('Validation set class distribution')\n",
    "plt.ylabel('Number of samples per class')\n",
    "plt.xlabel('Number of classes')\n",
    "plt.savefig(\"figures/validation_distr.png\")\n",
    "plt.show()\n",
    "\n",
    "distr_dict = dict(zip(unique, counts))\n",
    "\n",
    "#Print most common classes in the training set\n",
    "first_n = 5\n",
    "print(\"First {} common classes in the validation set: {}.\".format(first_n, get_n_most_or_less_common_classes(first_n, distr_dict)))\n",
    "\n",
    "#Last most common classes in the training set\n",
    "last_n = 5\n",
    "print(\"Last {} common classes in the validation set: {}.\".format(last_n, get_n_most_or_less_common_classes(last_n, distr_dict, most=False)))\n",
    "\n",
    "\n",
    "#test set\n",
    "unique, counts = np.unique(y_test, return_counts=True)\n",
    "\n",
    "plt.figure(figsize=(12,5))\n",
    "plt.bar(unique, counts, align='center')\n",
    "plt.xticks(unique)\n",
    "plt.title('Test set class distribution')\n",
    "plt.ylabel('Number of samples per class')\n",
    "plt.xlabel('Number of classes')\n",
    "plt.savefig(\"figures/test_distr.png\")\n",
    "plt.show()\n",
    "\n",
    "distr_dict = dict(zip(unique, counts))\n",
    "\n",
    "#Print most common classes in the training set\n",
    "first_n = 5\n",
    "print(\"First {} common classes in the test set: {}.\".format(first_n, get_n_most_or_less_common_classes(first_n, distr_dict)))\n",
    "\n",
    "#Last most common classes in the training set\n",
    "last_n = 5\n",
    "print(\"Last {} common classes in the test set: {}.\".format(last_n, get_n_most_or_less_common_classes(last_n, distr_dict, most=False)))\n",
    "\n",
    "\n",
    "#Finally we will plot some images\n",
    "#training set\n",
    "print(\"\\n\")\n",
    "print(\"Training set samples\")\n",
    "num_train_samples = 3\n",
    "train_samples = [rnd.randint(0, n_train) for sample in range(num_train_samples)]\n",
    "\n",
    "train_samples_fig = plt.figure(figsize=(15, 5))\n",
    "\n",
    "for i in range(num_train_samples):\n",
    "    train_samples_fig.add_subplot(1, num_train_samples, i+1)\n",
    "    plt.title(get_sign_name(y_train[train_samples[i]]))\n",
    "    plt.imshow(X_train[train_samples[i]])\n",
    "    plt.axis('off')\n",
    "    \n",
    "plt.savefig(\"figures/training_set_sampl.png\")\n",
    "plt.show()\n",
    " \n",
    "#validation set\n",
    "print(\"Validation set samples\")\n",
    "\n",
    "num_valid_samples = 3\n",
    "valid_samples = [rnd.randint(0, n_validation) for sample in range(num_valid_samples)]\n",
    "\n",
    "valid_samples_fig = plt.figure(figsize=(15, 5))\n",
    "for i in range(num_valid_samples):\n",
    "    valid_samples_fig.add_subplot(1, num_valid_samples, i+1)\n",
    "    plt.title(get_sign_name(y_valid[valid_samples[i]]))\n",
    "    plt.imshow(X_valid[valid_samples[i]])\n",
    "    plt.axis('off')\n",
    "\n",
    "plt.savefig(\"figures/validation_set_sampl.png\")\n",
    "plt.show()\n",
    "\n",
    "#test set\n",
    "print(\"Test set samples\")\n",
    "\n",
    "num_test_samples = 3\n",
    "test_samples = [rnd.randint(0, n_test) for sample in range(num_test_samples)]\n",
    "\n",
    "test_sample_fig = plt.figure(figsize=(15, 5))\n",
    "for i in range(num_test_samples):\n",
    "    test_sample_fig.add_subplot(1, num_test_samples, i+1)\n",
    "    plt.title(get_sign_name(y_test[test_samples[i]]))\n",
    "    plt.imshow(X_test[test_samples[i]])\n",
    "    plt.axis('off')\n",
    "    \n",
    "plt.savefig(\"figures/test_set_sampl.png\")\n",
    "plt.show()\n",
    "\n",
    "    \n",
    "# Visualizations will be shown in the notebook.\n",
    "%matplotlib inline"
   ]
  },
  {
   "cell_type": "markdown",
   "metadata": {},
   "source": [
    "----\n",
    "\n",
    "## Step 2: Design and Test a Model Architecture\n",
    "\n",
    "Design and implement a deep learning model that learns to recognize traffic signs. Train and test your model on the [German Traffic Sign Dataset](http://benchmark.ini.rub.de/?section=gtsrb&subsection=dataset).\n",
    "\n",
    "The LeNet-5 implementation shown in the [classroom](https://classroom.udacity.com/nanodegrees/nd013/parts/fbf77062-5703-404e-b60c-95b78b2f3f9e/modules/6df7ae49-c61c-4bb2-a23e-6527e69209ec/lessons/601ae704-1035-4287-8b11-e2c2716217ad/concepts/d4aca031-508f-4e0b-b493-e7b706120f81) at the end of the CNN lesson is a solid starting point. You'll have to change the number of classes and possibly the preprocessing, but aside from that it's plug and play! \n",
    "\n",
    "With the LeNet-5 solution from the lecture, you should expect a validation set accuracy of about 0.89. To meet specifications, the validation set accuracy will need to be at least 0.93. It is possible to get an even higher accuracy, but 0.93 is the minimum for a successful project submission. \n",
    "\n",
    "There are various aspects to consider when thinking about this problem:\n",
    "\n",
    "- Neural network architecture (is the network over or underfitting?)\n",
    "- Play around preprocessing techniques (normalization, rgb to grayscale, etc)\n",
    "- Number of examples per label (some have more than others).\n",
    "- Generate fake data.\n",
    "\n",
    "Here is an example of a [published baseline model on this problem](http://yann.lecun.com/exdb/publis/pdf/sermanet-ijcnn-11.pdf). It's not required to be familiar with the approach used in the paper but, it's good practice to try to read papers like these."
   ]
  },
  {
   "cell_type": "markdown",
   "metadata": {},
   "source": [
    "### Pre-process the Data Set (normalization, grayscale, etc.)"
   ]
  },
  {
   "cell_type": "markdown",
   "metadata": {},
   "source": [
    "Minimally, the image data should be normalized so that the data has mean zero and equal variance. For image data, `(pixel - 128)/ 128` is a quick way to approximately normalize the data and can be used in this project. \n",
    "\n",
    "Other pre-processing steps are optional. You can try different techniques to see if it improves performance. \n",
    "\n",
    "Use the code cell (or multiple code cells, if necessary) to implement the first step of your project."
   ]
  },
  {
   "cell_type": "code",
   "execution_count": 5,
   "metadata": {},
   "outputs": [
    {
     "data": {
      "image/png": "[encoded data removed]",
      "text/plain": [
       "<matplotlib.figure.Figure at 0x7fb48674f5c0>"
      ]
     },
     "metadata": {},
     "output_type": "display_data"
    },
    {
     "name": "stdout",
     "output_type": "stream",
     "text": [
      "Preprocessing phase done !\n"
     ]
    }
   ],
   "source": [
    "### Preprocess the data here. It is required to normalize the data. Other preprocessing steps could include \n",
    "### converting to grayscale, etc.\n",
    "### Feel free to use as many code cells as needed.\n",
    "\n",
    "def image_normalization(in_image):\n",
    "    in_image = in_image.astype('float32')\n",
    "    return (in_image - 128.) / 128.\n",
    "\n",
    "def to_grayscale(in_image):\n",
    "    return 0.299 * in_image[:, :, 0] + 0.587 * in_image[:, :, 1] + 0.114 * in_image[:, :, 2]\n",
    "\n",
    "def image_scaling(in_image):\n",
    "    return (in_image / 255.).astype(np.float32)\n",
    "\n",
    "def local_disk_image_equalization(in_image):\n",
    "    with warnings.catch_warnings():\n",
    "        warnings.simplefilter(\"ignore\")\n",
    "        disk = morp.disk(3)\n",
    "        return rank.equalize(in_image, selem=disk)\n",
    "\n",
    "def global_image_equalization(in_image):\n",
    "    return exposure.equalize_hist(in_image)\n",
    "    \n",
    "def preprocess(in_images):\n",
    "    out_images = []\n",
    "    \n",
    "    for image in in_images:\n",
    "        preprocessed_image = image\n",
    "        preprocessed_image = to_grayscale(preprocessed_image)\n",
    "        preprocessed_image = image_scaling(preprocessed_image)\n",
    "        #preprocessed_image = global_image_equalization(preprocessed_image)\n",
    "        preprocessed_image = local_disk_image_equalization(preprocessed_image)\n",
    "        out_images.append(preprocessed_image)\n",
    "        \n",
    "    return out_images\n",
    "\n",
    "X_train_preprocessed = preprocess(X_train)\n",
    "X_valid_preprocessed = preprocess(X_valid)\n",
    "X_test_preprocessed = preprocess(X_test)\n",
    "\n",
    "\n",
    "#Plot an example\n",
    "sample = X_train[2302]\n",
    "\n",
    "preprocessing_sample_fig = plt.figure(figsize=(12,5))\n",
    "preprocessing_sample_fig.add_subplot(1, 4, 1)\n",
    "plt.title('Input image')\n",
    "plt.axis('off')\n",
    "plt.imshow(sample)\n",
    "\n",
    "preprocessing_sample_fig.add_subplot(1, 4, 2)\n",
    "sample = to_grayscale(sample)\n",
    "plt.title('Grayscale image')\n",
    "plt.axis('off')\n",
    "plt.imshow(sample, cmap='gray')\n",
    "\n",
    "preprocessing_sample_fig.add_subplot(1, 4, 3)\n",
    "sample = image_scaling(sample)\n",
    "plt.title('Image normalization')\n",
    "plt.axis('off')\n",
    "plt.imshow(sample, cmap='gray')\n",
    "\n",
    "preprocessing_sample_fig.add_subplot(1, 4, 4)\n",
    "sample = local_disk_image_equalization(sample)\n",
    "plt.title('Image equalization')\n",
    "plt.axis('off')\n",
    "plt.imshow(sample, cmap='gray')\n",
    "\n",
    "plt.savefig(\"figures/input_preprocessing.png\")\n",
    "plt.show()\n",
    "\n",
    "X_train = np.asarray(X_train_preprocessed).reshape(len(X_train), 32, 32, 1)\n",
    "X_valid = np.asarray(X_valid_preprocessed).reshape(len(X_valid), 32 ,32 , 1)\n",
    "X_test = np.asarray(X_test_preprocessed).reshape(len(X_test), 32 ,32 , 1)\n",
    "\n",
    "print(\"Preprocessing phase done !\")"
   ]
  },
  {
   "cell_type": "markdown",
   "metadata": {},
   "source": [
    "### Model Architecture"
   ]
  },
  {
   "cell_type": "code",
   "execution_count": 6,
   "metadata": {
    "collapsed": true
   },
   "outputs": [],
   "source": [
    "### Define your architecture here.\n",
    "### Feel free to use as many code cells as needed.\n",
    "\n",
    "def LeNet(x):    \n",
    "    # Arguments used for tf.truncated_normal, randomly defines variables for the weights and biases for each layer\n",
    "    mu = 0\n",
    "    sigma = 0.01\n",
    "    \n",
    "    # Layer 1: Convolutional. Input = 32x32x1. Output = 28x28x6.\n",
    "    conv1_W = tf.Variable(tf.truncated_normal(shape=(5, 5, x.get_shape().as_list()[3], 6), mean = mu, stddev = sigma))\n",
    "    conv1_b = tf.Variable(tf.zeros(6))\n",
    "    conv1   = tf.nn.conv2d(x, conv1_W, strides=[1, 1, 1, 1], padding='VALID') + conv1_b\n",
    "    # Activation.\n",
    "    conv1 = tf.nn.relu(conv1)\n",
    "    # Pooling. Input = 28x28x6. Output = 14x14x6.\n",
    "    conv1 = tf.nn.max_pool(conv1, ksize=[1, 2, 2, 1], strides=[1, 2, 2, 1], padding='VALID')\n",
    "\n",
    "    # Layer 2: Convolutional. Output = 10x10x16.\n",
    "    conv2_W = tf.Variable(tf.truncated_normal(shape=(5, 5, 6, 16), mean = mu, stddev = sigma))\n",
    "    conv2_b = tf.Variable(tf.zeros(16))\n",
    "    conv2   = tf.nn.conv2d(conv1, conv2_W, strides=[1, 1, 1, 1], padding='VALID') + conv2_b\n",
    "    # Activation.\n",
    "    conv2 = tf.nn.relu(conv2)\n",
    "    # Pooling. Input = 10x10x16. Output = 5x5x16.\n",
    "    conv2 = tf.nn.max_pool(conv2, ksize=[1, 2, 2, 1], strides=[1, 2, 2, 1], padding='VALID')\n",
    "\n",
    "    # Flatten. Input = 5x5x16. Output = 400.\n",
    "    fc0   = flatten(conv2)\n",
    "    \n",
    "    # Layer 3: Fully Connected. Input = 400. Output = 1024.\n",
    "    fc1_W = tf.Variable(tf.truncated_normal(shape=(400, 1024), mean = mu, stddev = sigma))\n",
    "    fc1_b = tf.Variable(tf.zeros(1024))\n",
    "    fc1   = tf.matmul(fc0, fc1_W) + fc1_b\n",
    "    # Activation.\n",
    "    fc1    = tf.nn.relu(fc1)\n",
    "    # Layer 3: Dropout\n",
    "    fc1 = tf.nn.dropout(fc1, keep_prob)\n",
    "\n",
    "    # Layer 4: Fully Connected. Input = 1024. Output = 512.\n",
    "    fc2_W  = tf.Variable(tf.truncated_normal(shape=(1024, 512), mean = mu, stddev = sigma))\n",
    "    fc2_b  = tf.Variable(tf.zeros(512))\n",
    "    fc2    = tf.matmul(fc1, fc2_W) + fc2_b\n",
    "    # Activation.\n",
    "    fc2    = tf.nn.relu(fc2)\n",
    "    # Layer 4: Dropout\n",
    "    fc2 = tf.nn.dropout(fc2, keep_prob)\n",
    "\n",
    "    # Layer 5: Fully Connected. Input = 512. Output = 43.\n",
    "    fc3_W  = tf.Variable(tf.truncated_normal(shape=(512, 43), mean = mu, stddev = sigma))\n",
    "    fc3_b  = tf.Variable(tf.zeros(43))\n",
    "    logits = tf.matmul(fc2, fc3_W) + fc3_b\n",
    "    \n",
    "    return logits"
   ]
  },
  {
   "cell_type": "markdown",
   "metadata": {},
   "source": [
    "### Train, Validate and Test the Model"
   ]
  },
  {
   "cell_type": "markdown",
   "metadata": {},
   "source": [
    "A validation set can be used to assess how well the model is performing. A low accuracy on the training and validation\n",
    "sets imply underfitting. A high accuracy on the training set but low accuracy on the validation set implies overfitting."
   ]
  },
  {
   "cell_type": "code",
   "execution_count": null,
   "metadata": {
    "collapsed": true
   },
   "outputs": [],
   "source": [
    "x = tf.placeholder(tf.float32, (None, 32, 32, 1))\n",
    "y = tf.placeholder(tf.int32, (None))\n",
    "keep_prob = tf.placeholder(tf.float32)\n",
    "one_hot_y = tf.one_hot(y, 43)\n",
    "\n",
    "\n",
    "#Training params\n",
    "epochs = 32\n",
    "batch_size = 256\n",
    "learning_rate = 0.001"
   ]
  },
  {
   "cell_type": "code",
   "execution_count": null,
   "metadata": {},
   "outputs": [
    {
     "name": "stdout",
     "output_type": "stream",
     "text": [
      "Training...\n",
      "\n",
      "EPOCH 1 ...\n",
      "Validation Accuracy = 0.588\n",
      "Validation Loss = 1.301\n",
      "Training Accuracy = 0.632\n",
      "Training Loss = 1.158\n",
      "\n",
      "Model was saved! Validation accuracy improved from 0.000 to 0.588\n",
      "EPOCH 2 ...\n",
      "Validation Accuracy = 0.864\n",
      "Validation Loss = 0.441\n",
      "Training Accuracy = 0.908\n",
      "Training Loss = 0.294\n",
      "\n",
      "Model was saved! Validation accuracy improved from 0.588 to 0.864\n",
      "EPOCH 3 ...\n",
      "Validation Accuracy = 0.930\n",
      "Validation Loss = 0.255\n",
      "Training Accuracy = 0.967\n",
      "Training Loss = 0.117\n",
      "\n",
      "Model was saved! Validation accuracy improved from 0.864 to 0.930\n"
     ]
    }
   ],
   "source": [
    "### Train your model here.\n",
    "### Calculate and report the accuracy on the training and validation set.\n",
    "### Once a final model architecture is selected, \n",
    "### the accuracy on the test set should be calculated and reported as well.\n",
    "### Feel free to use as many code cells as needed.\n",
    "\n",
    "\n",
    "logits = LeNet(x)\n",
    "cross_entropy = tf.nn.softmax_cross_entropy_with_logits(labels=one_hot_y, logits=logits)\n",
    "loss_operation = tf.reduce_mean(cross_entropy)\n",
    "optimizer = tf.train.AdamOptimizer(learning_rate = learning_rate)\n",
    "training_operation = optimizer.minimize(loss_operation)\n",
    "\n",
    "\n",
    "#Model Evaluation\n",
    "\n",
    "correct_prediction = tf.equal(tf.argmax(logits, 1), tf.argmax(one_hot_y, 1))\n",
    "accuracy_operation = tf.reduce_mean(tf.cast(correct_prediction, tf.float32))\n",
    "saver = tf.train.Saver()\n",
    "\n",
    "def evaluate(X_data, y_data):\n",
    "    num_examples = len(X_data)\n",
    "    total_accuracy = 0\n",
    "    total_loss = 0\n",
    "    sess = tf.get_default_session()\n",
    "    for offset in range(0, num_examples, batch_size):\n",
    "        batch_x, batch_y = X_data[offset:offset + batch_size], y_data[offset:offset + batch_size]\n",
    "        loss, accuracy = sess.run([loss_operation, accuracy_operation], feed_dict={x: batch_x, y: batch_y, keep_prob: 1.0})\n",
    "        total_accuracy += (accuracy * len(batch_x))\n",
    "        total_loss += (loss * len(batch_x))\n",
    "    return total_accuracy / num_examples, total_loss / num_examples\n",
    "\n",
    "\n",
    "#Training phase\n",
    "\n",
    "best_validation_accuracy = 0\n",
    "\n",
    "with tf.Session() as sess:\n",
    "    sess.run(tf.global_variables_initializer())\n",
    "    num_examples = n_train\n",
    "\n",
    "    print(\"Training...\")\n",
    "    print()\n",
    "\n",
    "    for i in range(epochs):\n",
    "        X_train, y_train = shuffle(X_train, y_train)\n",
    "        for offset in range(0, num_examples, batch_size):\n",
    "            end = offset + batch_size\n",
    "            batch_x, batch_y = X_train[offset:end], y_train[offset:end]\n",
    "            sess.run(training_operation, feed_dict={x: batch_x, y: batch_y, keep_prob: 0.4})\n",
    "\n",
    "        validation_accuracy, validation_loss = evaluate(X_valid, y_valid)\n",
    "        training_accuracy, training_loss = evaluate(X_train, y_train)\n",
    "        \n",
    "        print(\"EPOCH {} ...\".format(i+1))\n",
    "        print(\"Validation Accuracy = {:.3f}\".format(validation_accuracy))\n",
    "        print(\"Validation Loss = {:.3f}\".format(validation_loss))\n",
    "        print(\"Training Accuracy = {:.3f}\".format(training_accuracy))\n",
    "        print(\"Training Loss = {:.3f}\".format(training_loss))\n",
    "        print()\n",
    "\n",
    "        if validation_accuracy > best_validation_accuracy:\n",
    "            saver.save(sess, './lenet')\n",
    "            print(\"Model was saved! Validation accuracy improved from {:.3f} to {:.3f}\".format(best_validation_accuracy, validation_accuracy))\n",
    "            best_validation_accuracy = validation_accuracy"
   ]
  },
  {
   "cell_type": "code",
   "execution_count": null,
   "metadata": {},
   "outputs": [],
   "source": [
    "#Evaluate the model\n",
    "\n",
    "with tf.Session() as sess:\n",
    "    saver.restore(sess, tf.train.latest_checkpoint('.'))\n",
    "    \n",
    "    test_accuracy, test_loss = evaluate(X_test, y_test)\n",
    "    print(\"Test Accuracy = {:.3f}\".format(test_accuracy))\n"
   ]
  },
  {
   "cell_type": "markdown",
   "metadata": {},
   "source": [
    "---\n",
    "\n",
    "## Step 3: Test a Model on New Images\n",
    "\n",
    "To give yourself more insight into how your model is working, download at least five pictures of German traffic signs from the web and use your model to predict the traffic sign type.\n",
    "\n",
    "You may find `signnames.csv` useful as it contains mappings from the class id (integer) to the actual sign name."
   ]
  },
  {
   "cell_type": "markdown",
   "metadata": {},
   "source": [
    "### Load and Output the Images"
   ]
  },
  {
   "cell_type": "code",
   "execution_count": null,
   "metadata": {
    "scrolled": true
   },
   "outputs": [],
   "source": [
    "### Load the images and plot them here.\n",
    "### Feel free to use as many code cells as needed.\n",
    "\n",
    "image_folder = \"new_images/\"\n",
    "image_path_list = []\n",
    "image_names_list = []\n",
    "valid_image_extensions = [\".jpg\", \".png\", \".jpeg\"]\n",
    "valid_image_extensions = [item.lower() for item in valid_image_extensions]\n",
    "X_final_test = []\n",
    "y_final_test = []\n",
    "\n",
    "#Read csv with the labels\n",
    "new_dataset_labels = pd.read_csv(image_folder + \"extra_test_images.csv\")\n",
    "new_dataset_labels.set_index('Image',inplace=True)\n",
    "\n",
    "def get_class(name):\n",
    "    return new_dataset_labels.loc[name, 'Class']\n",
    "\n",
    "#print(new_dataset_labels)\n",
    "\n",
    "#Create a list with all images\n",
    "for file in os.listdir(image_folder):\n",
    "    extension = os.path.splitext(file)[1]\n",
    "    name = os.path.splitext(file)[0]\n",
    "    \n",
    "    if extension.lower() in valid_image_extensions:\n",
    "        image_path_list.append(os.path.join(image_folder, file))\n",
    "        image_names_list.append(name)\n",
    "\n",
    "#print(image_path_list)\n",
    "#print(image_names_list)\n",
    "\n",
    "for image_path, index in zip(image_path_list, image_names_list):\n",
    "    image = io.imread(image_path)\n",
    "    image = transform.resize(image, (32,32), order= 4, mode='constant')\n",
    "    X_final_test.append(image)\n",
    "    y_final_test.append(get_class(int(index)))\n",
    "    \n",
    "X_final_test_orig = X_final_test\n",
    "X_final_test_preprocessed = np.asarray(preprocess(X_final_test))\n",
    "X_final_test = X_final_test_preprocessed.reshape(len(X_final_test_preprocessed), 32, 32, 1)\n",
    "y_final_test = np.asarray(y_final_test)\n",
    "\n",
    "print(\"Loading and preprocessing of the new dataset done !\")\n",
    "\n",
    "#display new images\n",
    "\n",
    "print(\"Original images\")\n",
    "plt.figure(figsize=(15, 10))\n",
    "for i in range(len(X_final_test)):\n",
    "    plt.subplot(4, 4, i+1)\n",
    "    plt.imshow(X_final_test_orig[i])\n",
    "    plt.title(get_sign_name(int(y_final_test[i])))\n",
    "    plt.axis('off')\n",
    " \n",
    "plt.savefig(\"figures/new_orig_imgs.png\")\n",
    "plt.show()\n",
    "\n",
    "\n",
    "print(\"Preprocessed images\")\n",
    "plt.figure(figsize=(15, 10))\n",
    "for i in range(len(X_final_test)):\n",
    "    plt.subplot(4, 4, i+1)\n",
    "    plt.imshow(X_final_test_preprocessed[i], cmap=\"gray\")\n",
    "    plt.title(get_sign_name(int(y_final_test[i])))\n",
    "    plt.axis('off')\n",
    "\n",
    "plt.savefig(\"figures/new_orig_preproc_imgs.png\")\n",
    "plt.show()"
   ]
  },
  {
   "cell_type": "markdown",
   "metadata": {},
   "source": [
    "### Predict the Sign Type for Each Image"
   ]
  },
  {
   "cell_type": "code",
   "execution_count": null,
   "metadata": {},
   "outputs": [],
   "source": [
    "### Run the predictions here and use the model to output the prediction for each image.\n",
    "### Make sure to pre-process the images with the same pre-processing pipeline used earlier.\n",
    "### Feel free to use as many code cells as needed.\n",
    "\n",
    "def get_predictions(in_data, sess):\n",
    "    return sess.run(tf.argmax(logits, 1), feed_dict={x: in_data, keep_prob: 1.0})\n",
    "\n",
    "output = []\n",
    "\n",
    "with tf.Session() as sess:\n",
    "    saver = tf.train.Saver()\n",
    "    saver.restore(sess, tf.train.latest_checkpoint('.'))\n",
    "    output = get_predictions(X_final_test, sess)\n",
    "    new_accuracy, new_loss = evaluate(X_final_test, y_final_test)\n",
    "    print(\"Accuracy on new images = {:.3f}\".format(new_accuracy))\n"
   ]
  },
  {
   "cell_type": "markdown",
   "metadata": {},
   "source": [
    "### Analyze Performance"
   ]
  },
  {
   "cell_type": "code",
   "execution_count": null,
   "metadata": {},
   "outputs": [],
   "source": [
    "### Calculate the accuracy for these 5 new images. \n",
    "### For example, if the model predicted 1 out of 5 signs correctly, it's 20% accurate on these new images.\n",
    "\n",
    "plt.figure(figsize=(15, 10))\n",
    "for i in range(len(X_final_test)):\n",
    "    plt.subplot(4, 4, i+1)\n",
    "    plt.imshow(X_final_test_orig[i])\n",
    "    plt.title(get_sign_name(output[i]))\n",
    "    plt.axis('off')\n",
    " \n",
    "plt.savefig(\"figures/predictions.png\")\n",
    "plt.show()"
   ]
  },
  {
   "cell_type": "markdown",
   "metadata": {},
   "source": [
    "### Output Top 5 Softmax Probabilities For Each Image Found on the Web"
   ]
  },
  {
   "cell_type": "markdown",
   "metadata": {},
   "source": [
    "For each of the new images, print out the model's softmax probabilities to show the **certainty** of the model's predictions (limit the output to the top 5 probabilities for each image). [`tf.nn.top_k`](https://www.tensorflow.org/versions/r0.12/api_docs/python/nn.html#top_k) could prove helpful here. \n",
    "\n",
    "The example below demonstrates how tf.nn.top_k can be used to find the top k predictions for each image.\n",
    "\n",
    "`tf.nn.top_k` will return the values and indices (class ids) of the top k predictions. So if k=3, for each sign, it'll return the 3 largest probabilities (out of a possible 43) and the correspoding class ids.\n",
    "\n",
    "Take this numpy array as an example. The values in the array represent predictions. The array contains softmax probabilities for five candidate images with six possible classes. `tf.nn.top_k` is used to choose the three classes with the highest probability:\n",
    "\n",
    "```\n",
    "# (5, 6) array\n",
    "a = np.array([[ 0.24879643,  0.07032244,  0.12641572,  0.34763842,  0.07893497,\n",
    "         0.12789202],\n",
    "       [ 0.28086119,  0.27569815,  0.08594638,  0.0178669 ,  0.18063401,\n",
    "         0.15899337],\n",
    "       [ 0.26076848,  0.23664738,  0.08020603,  0.07001922,  0.1134371 ,\n",
    "         0.23892179],\n",
    "       [ 0.11943333,  0.29198961,  0.02605103,  0.26234032,  0.1351348 ,\n",
    "         0.16505091],\n",
    "       [ 0.09561176,  0.34396535,  0.0643941 ,  0.16240774,  0.24206137,\n",
    "         0.09155967]])\n",
    "```\n",
    "\n",
    "Running it through `sess.run(tf.nn.top_k(tf.constant(a), k=3))` produces:\n",
    "\n",
    "```\n",
    "TopKV2(values=array([[ 0.34763842,  0.24879643,  0.12789202],\n",
    "       [ 0.28086119,  0.27569815,  0.18063401],\n",
    "       [ 0.26076848,  0.23892179,  0.23664738],\n",
    "       [ 0.29198961,  0.26234032,  0.16505091],\n",
    "       [ 0.34396535,  0.24206137,  0.16240774]]), indices=array([[3, 0, 5],\n",
    "       [0, 1, 4],\n",
    "       [0, 5, 1],\n",
    "       [1, 3, 5],\n",
    "       [1, 4, 3]], dtype=int32))\n",
    "```\n",
    "\n",
    "Looking just at the first row we get `[ 0.34763842,  0.24879643,  0.12789202]`, you can confirm these are the 3 largest probabilities in `a`. You'll also notice `[3, 0, 5]` are the corresponding indices."
   ]
  },
  {
   "cell_type": "code",
   "execution_count": null,
   "metadata": {},
   "outputs": [],
   "source": [
    "### Print out the top five softmax probabilities for the predictions on the German traffic sign images found on the web. \n",
    "### Feel free to use as many code cells as needed.\n",
    "\n",
    "def get_top_n_probabilities(in_data, n, sess):\n",
    "    probabilities = sess.run(tf.nn.softmax(logits), feed_dict={x: in_data, keep_prob: 1.0})\n",
    "    operation = tf.nn.top_k(probabilities, k=n)\n",
    "    return sess.run(operation)\n",
    "\n",
    "\n",
    "top_5 = []\n",
    "\n",
    "with tf.Session() as sess:\n",
    "    saver = tf.train.Saver()\n",
    "    saver.restore(sess, tf.train.latest_checkpoint('.'))\n",
    "    top_5 = get_top_n_probabilities(X_final_test, 5, sess)\n",
    "\n",
    "#Print probabilities\n",
    "plt.figure(figsize=(16,32))\n",
    "for i in range(len(X_final_test)):\n",
    "    plt.subplot(len(X_final_test), 2, 2*i + 1)\n",
    "    plt.imshow(X_final_test_orig[i])\n",
    "    plt.axis('off')\n",
    "    \n",
    "    plt.subplot(len(X_final_test), 2, 2*i + 2)\n",
    "    plt.barh(np.arange(1, 6, 1), top_5.values[i, :])\n",
    "    labels = [get_sign_name(j) for j in top_5.indices[i]]\n",
    "    plt.yticks(np.arange(1, 6, 1), labels)\n",
    "    \n",
    "plt.savefig(\"figures/prediction_probabilities.png\")\n",
    "plt.show()"
   ]
  },
  {
   "cell_type": "markdown",
   "metadata": {},
   "source": [
    "### Project Writeup\n",
    "\n",
    "Once you have completed the code implementation, document your results in a project writeup using this [template](https://github.com/udacity/CarND-Traffic-Sign-Classifier-Project/blob/master/writeup_template.md) as a guide. The writeup can be in a markdown or pdf file. "
   ]
  },
  {
   "cell_type": "markdown",
   "metadata": {},
   "source": [
    "> **Note**: Once you have completed all of the code implementations and successfully answered each question above, you may finalize your work by exporting the iPython Notebook as an HTML document. You can do this by using the menu above and navigating to  \\n\",\n",
    "    \"**File -> Download as -> HTML (.html)**. Include the finished document along with this notebook as your submission."
   ]
  },
  {
   "cell_type": "markdown",
   "metadata": {},
   "source": [
    "---\n",
    "\n",
    "## Step 4 (Optional): Visualize the Neural Network's State with Test Images\n",
    "\n",
    " This Section is not required to complete but acts as an additional excersise for understaning the output of a neural network's weights. While neural networks can be a great learning device they are often referred to as a black box. We can understand what the weights of a neural network look like better by plotting their feature maps. After successfully training your neural network you can see what it's feature maps look like by plotting the output of the network's weight layers in response to a test stimuli image. From these plotted feature maps, it's possible to see what characteristics of an image the network finds interesting. For a sign, maybe the inner network feature maps react with high activation to the sign's boundary outline or to the contrast in the sign's painted symbol.\n",
    "\n",
    " Provided for you below is the function code that allows you to get the visualization output of any tensorflow weight layer you want. The inputs to the function should be a stimuli image, one used during training or a new one you provided, and then the tensorflow variable name that represents the layer's state during the training process, for instance if you wanted to see what the [LeNet lab's](https://classroom.udacity.com/nanodegrees/nd013/parts/fbf77062-5703-404e-b60c-95b78b2f3f9e/modules/6df7ae49-c61c-4bb2-a23e-6527e69209ec/lessons/601ae704-1035-4287-8b11-e2c2716217ad/concepts/d4aca031-508f-4e0b-b493-e7b706120f81) feature maps looked like for it's second convolutional layer you could enter conv2 as the tf_activation variable.\n",
    "\n",
    "For an example of what feature map outputs look like, check out NVIDIA's results in their paper [End-to-End Deep Learning for Self-Driving Cars](https://devblogs.nvidia.com/parallelforall/deep-learning-self-driving-cars/) in the section Visualization of internal CNN State. NVIDIA was able to show that their network's inner weights had high activations to road boundary lines by comparing feature maps from an image with a clear path to one without. Try experimenting with a similar test to show that your trained network's weights are looking for interesting features, whether it's looking at differences in feature maps from images with or without a sign, or even what feature maps look like in a trained network vs a completely untrained one on the same sign image.\n",
    "\n",
    "<figure>\n",
    " <img src=\"visualize_cnn.png\" width=\"380\" alt=\"Combined Image\" />\n",
    " <figcaption>\n",
    " <p></p> \n",
    " <p style=\"text-align: center;\"> Your output should look something like this (above)</p> \n",
    " </figcaption>\n",
    "</figure>\n",
    " <p></p> \n"
   ]
  },
  {
   "cell_type": "code",
   "execution_count": null,
   "metadata": {
    "collapsed": true
   },
   "outputs": [],
   "source": [
    "### Visualize your network's feature maps here.\n",
    "### Feel free to use as many code cells as needed.\n",
    "\n",
    "# image_input: the test image being fed into the network to produce the feature maps\n",
    "# tf_activation: should be a tf variable name used during your training procedure that represents the calculated state of a specific weight layer\n",
    "# activation_min/max: can be used to view the activation contrast in more detail, by default matplot sets min and max to the actual min and max values of the output\n",
    "# plt_num: used to plot out multiple different weight feature map sets on the same block, just extend the plt number for each new feature map entry\n",
    "\n",
    "def outputFeatureMap(image_input, tf_activation, activation_min=-1, activation_max=-1 ,plt_num=1):\n",
    "    # Here make sure to preprocess your image_input in a way your network expects\n",
    "    # with size, normalization, ect if needed\n",
    "    # image_input =\n",
    "    # Note: x should be the same name as your network's tensorflow data placeholder variable\n",
    "    # If you get an error tf_activation is not defined it may be having trouble accessing the variable from inside a function\n",
    "    activation = tf_activation.eval(session=sess,feed_dict={x : image_input})\n",
    "    featuremaps = activation.shape[3]\n",
    "    plt.figure(plt_num, figsize=(15,15))\n",
    "    for featuremap in range(featuremaps):\n",
    "        plt.subplot(6,8, featuremap+1) # sets the number of feature maps to show on each row and column\n",
    "        plt.title('FeatureMap ' + str(featuremap)) # displays the feature map number\n",
    "        if activation_min != -1 & activation_max != -1:\n",
    "            plt.imshow(activation[0,:,:, featuremap], interpolation=\"nearest\", vmin =activation_min, vmax=activation_max, cmap=\"gray\")\n",
    "        elif activation_max != -1:\n",
    "            plt.imshow(activation[0,:,:, featuremap], interpolation=\"nearest\", vmax=activation_max, cmap=\"gray\")\n",
    "        elif activation_min !=-1:\n",
    "            plt.imshow(activation[0,:,:, featuremap], interpolation=\"nearest\", vmin=activation_min, cmap=\"gray\")\n",
    "        else:\n",
    "            plt.imshow(activation[0,:,:, featuremap], interpolation=\"nearest\", cmap=\"gray\")"
   ]
  }
 ],
 "metadata": {
  "anaconda-cloud": {},
  "kernelspec": {
   "display_name": "Python 3",
   "language": "python",
   "name": "python3"
  },
  "language_info": {
   "codemirror_mode": {
    "name": "ipython",
    "version": 3
   },
   "file_extension": ".py",
   "mimetype": "text/x-python",
   "name": "python",
   "nbconvert_exporter": "python",
   "pygments_lexer": "ipython3",
   "version": "3.5.2"
  },
  "widgets": {
   "state": {},
   "version": "1.1.2"
  }
 },
 "nbformat": 4,
 "nbformat_minor": 1
}
